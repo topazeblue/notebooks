{
 "cells": [
  {
   "cell_type": "code",
   "execution_count": 1,
   "id": "439cb109",
   "metadata": {},
   "outputs": [],
   "source": [
    "from fls import *\n",
    "import sys\n",
    "import os\n",
    "import re\n",
    "from collections import namedtuple\n",
    "__VERSION__ = \"1.3\"\n",
    "__DATE__ = \"24/Dec/2022\""
   ]
  },
  {
   "cell_type": "markdown",
   "id": "ddd3ebfe",
   "metadata": {},
   "source": [
    "VERSION HISTORY\n",
    "\n",
    "- v1.1: [TEST] and [NOTEST]; defaults"
   ]
  },
  {
   "cell_type": "markdown",
   "id": "2b5b07e2",
   "metadata": {},
   "source": [
    "# Convert NBTest (Notebooks)\n",
    "\n",
    "Converts files `Name_Test.py -> test_name.py` suitable for `pytest`"
   ]
  },
  {
   "cell_type": "code",
   "execution_count": 15,
   "id": "3a724746",
   "metadata": {},
   "outputs": [
    {
     "name": "stdout",
     "output_type": "stream",
     "text": [
      "NBTestConvert v1.2 17/Dec/2022\n"
     ]
    }
   ],
   "source": [
    "print(f\"NBTestConvert v{__VERSION__} {__DATE__}\")"
   ]
  },
  {
   "cell_type": "code",
   "execution_count": 3,
   "id": "51e64aeb",
   "metadata": {},
   "outputs": [],
   "source": [
    "NOTEST_DEFAULT=\"NOTEST\""
   ]
  },
  {
   "cell_type": "markdown",
   "id": "22f88afc",
   "metadata": {},
   "source": [
    "## Get script path and set paths"
   ]
  },
  {
   "cell_type": "code",
   "execution_count": 5,
   "id": "7a4dd5d6",
   "metadata": {},
   "outputs": [],
   "source": [
    "if sys.argv[0].rsplit(\"/\", maxsplit=1)[-1]==\"ipykernel_launcher.py\":\n",
    "    JUPYTER = True\n",
    "    SCRIPTPATH = os.getcwd()\n",
    "else:\n",
    "    JUPYTER = False\n",
    "    SCRIPTPATH = os.path.dirname(os.path.realpath(sys.argv[0]))"
   ]
  },
  {
   "cell_type": "code",
   "execution_count": 12,
   "id": "0c8d723b",
   "metadata": {},
   "outputs": [],
   "source": [
    "SRCPATH = os.path.join(SCRIPTPATH, \"\")\n",
    "TRGPATH = os.path.join(SCRIPTPATH, \"../_test/\")"
   ]
  },
  {
   "cell_type": "code",
   "execution_count": 13,
   "id": "b3fb3cff",
   "metadata": {},
   "outputs": [
    {
     "name": "stdout",
     "output_type": "stream",
     "text": [
      "JUPYTER True\n",
      "SCRIPTPATH /Users/skl/REPOES/Topaze/Notebooks/_lib\n",
      "SRCPATH /Users/skl/REPOES/Topaze/Notebooks/_lib/\n",
      "TRGPATH /Users/skl/REPOES/Topaze/Notebooks/_lib/../_test/\n",
      "---\n"
     ]
    }
   ],
   "source": [
    "print(\"JUPYTER\", JUPYTER)\n",
    "print(\"SCRIPTPATH\", SCRIPTPATH)\n",
    "print(\"SRCPATH\", SRCPATH)\n",
    "print(\"TRGPATH\", TRGPATH)\n",
    "print(\"---\")"
   ]
  },
  {
   "cell_type": "code",
   "execution_count": 14,
   "id": "c055d269",
   "metadata": {},
   "outputs": [
    {
     "name": "stdout",
     "output_type": "stream",
     "text": [
      "AMMGammaLib.py          BlackScholes_Test.py    _ConvertNBTest.ipynb\r\n",
      "AMMGammaLib_Test.ipynb  README.md               _ConvertNBTest.py\r\n",
      "AMMGammaLib_Test.py     RPathLib.py             \u001b[34m__pycache__\u001b[m\u001b[m\r\n",
      "BlackScholesLib.py      RPathLib_Test.ipynb     fls.py\r\n",
      "BlackScholes_Test.ipynb RPathLib_Test.py\r\n"
     ]
    }
   ],
   "source": [
    "!ls {SRCPATH}"
   ]
  },
  {
   "cell_type": "code",
   "execution_count": 15,
   "id": "f31b9874",
   "metadata": {},
   "outputs": [
    {
     "name": "stdout",
     "output_type": "stream",
     "text": [
      "README.md\r\n"
     ]
    }
   ],
   "source": [
    "!ls {TRGPATH}"
   ]
  },
  {
   "cell_type": "markdown",
   "id": "119d110f",
   "metadata": {},
   "source": [
    "## Generate the list of files"
   ]
  },
  {
   "cell_type": "code",
   "execution_count": 18,
   "id": "553fbebb",
   "metadata": {},
   "outputs": [],
   "source": [
    "rawlist = os.listdir(SRCPATH)\n",
    "rawlist.sort()\n",
    "#rawlist"
   ]
  },
  {
   "cell_type": "code",
   "execution_count": 40,
   "id": "71dc0630",
   "metadata": {},
   "outputs": [
    {
     "data": {
      "text/plain": [
       "datarecord_nt(tid='libname', comment='comment', fn='libname_comment_Test.py', outfn='test_libname_comment.py')"
      ]
     },
     "execution_count": 40,
     "metadata": {},
     "output_type": "execute_result"
    }
   ],
   "source": [
    "dr_nt = namedtuple(\"datarecord_nt\", \"tid, comment, fn, outfn\")\n",
    "def filterfn(fn):\n",
    "    \"\"\"\n",
    "    takes fn and returns either filelist_nt or None \n",
    "    \"\"\"\n",
    "    fn0 = fn\n",
    "    \n",
    "    # check extension is .py and remove it\n",
    "    if fn[-3:].lower() != \".py\":\n",
    "        #print(\"[filterfn] not python\", fn)\n",
    "        return None\n",
    "    fn = fn[:-3]\n",
    "    \n",
    "    # check that stem ends end is \"_Test\" and remove it \n",
    "    if fn[-5:].lower() != \"_test\":\n",
    "        #print(\"[filterfn] not _test\", fn)\n",
    "        return None\n",
    "    fn = fn[:-5]\n",
    "    \n",
    "    try:\n",
    "        fnsplit = fn.split(\"_\", maxsplit=1)\n",
    "        tid = fnsplit[0]\n",
    "        comment = fnsplit[1]\n",
    "    except IndexError:\n",
    "        comment = \"\"\n",
    "    outfn = f\"test_{tid}_{comment}.py\"\n",
    "    return dr_nt(tid=tid, comment=comment, fn=fn0, outfn=outfn)\n",
    "\n",
    "assert filterfn(\"libname_Test.py\").tid == \"libname\"\n",
    "assert filterfn(\"libname_Test.py\").comment == \"\"\n",
    "assert filterfn(\"libname_Test.py\").fn == \"libname_Test.py\"\n",
    "assert filterfn(\"libname_Test.py\").outfn == \"test_libname_.py\"\n",
    "\n",
    "assert filterfn(\"libname_comment_Test.py\").tid == \"libname\"\n",
    "assert filterfn(\"libname_comment_Test.py\").comment == \"comment\"\n",
    "assert filterfn(\"libname_comment_Test.py\").fn == \"libname_comment_Test.py\"\n",
    "assert filterfn(\"libname_comment_Test.py\").outfn == \"test_libname_comment.py\"\n",
    "\n",
    "assert filterfn(\"README\") is None\n",
    "assert filterfn(\"README.md\") is None\n",
    "assert filterfn(\"libname.py\") is None\n",
    "assert filterfn(\"test.py\") is None\n",
    "\n",
    "filterfn(\"libname_comment_Test.py\")"
   ]
  },
  {
   "cell_type": "code",
   "execution_count": 42,
   "id": "e86139a7",
   "metadata": {},
   "outputs": [
    {
     "data": {
      "text/plain": [
       "(datarecord_nt(tid='AMMGammaLib', comment='', fn='AMMGammaLib_Test.py', outfn='test_AMMGammaLib_.py'),\n",
       " datarecord_nt(tid='BlackScholes', comment='', fn='BlackScholes_Test.py', outfn='test_BlackScholes_.py'),\n",
       " datarecord_nt(tid='RPathLib', comment='', fn='RPathLib_Test.py', outfn='test_RPathLib_.py'))"
      ]
     },
     "execution_count": 42,
     "metadata": {},
     "output_type": "execute_result"
    }
   ],
   "source": [
    "fnlst = (filterfn(fn) for fn in rawlist)\n",
    "fnlst = tuple(r for r in fnlst if not r is None)\n",
    "fnlst"
   ]
  },
  {
   "cell_type": "markdown",
   "id": "23841ca4",
   "metadata": {},
   "source": [
    "## Process files"
   ]
  },
  {
   "cell_type": "code",
   "execution_count": 44,
   "id": "5541fc2c",
   "metadata": {},
   "outputs": [],
   "source": [
    "def funcn(title):\n",
    "    \"\"\"\n",
    "    converts a title into a function name\n",
    "    \n",
    "    NOTE\n",
    "    \n",
    "    \"This is a title [TEST]\"     -> test_this_is_a_title\n",
    "    \"This is a title [NOTEST]\"   -> notest_this_is_a_title\n",
    "    \"This is a title\"            -> depends on NOTEST_DEFAULT global\n",
    "    \"\"\"\n",
    "    global NOTEST_DEFAULT\n",
    "    #print(\"[funcn] NOTEST_DEFAULT\", NOTEST_DEFAULT)\n",
    "    \n",
    "    title = title.strip()\n",
    "    if title[-8:] == \"[NOTEST]\":\n",
    "        notest = True\n",
    "        title = title[:-8].strip()\n",
    "    elif title[-6:] == \"[TEST]\":\n",
    "        notest = False\n",
    "        title = title[:-6].strip()\n",
    "    else:\n",
    "        notest = True if NOTEST_DEFAULT == \"NOTEST\" else False \n",
    "        \n",
    "        \n",
    "    prefix = \"notest_\" if notest else \"test_\"\n",
    "\n",
    "        \n",
    "    funcn = title.lower()\n",
    "    funcn = funcn.replace(\" \", \"_\")\n",
    "    funcn = prefix+funcn\n",
    "    return funcn\n",
    "\n",
    "assert funcn(\" Title [TEST]  \") == \"test_title\"\n",
    "assert funcn(\" Title [NOTEST] \") == \"notest_title\"\n",
    "assert funcn(\" Title  \") == \"notest_title\" if NOTEST_DEFAULT==\"NOTEST\" else \"test_title\"\n",
    "assert funcn(\" Advanced Testing [TEST]  \") == \"test_advanced_testing\"\n",
    "assert funcn(\" A notest title [NOTEST] \") == \"notest_a_notest_title\""
   ]
  },
  {
   "cell_type": "code",
   "execution_count": 45,
   "id": "233d86a2",
   "metadata": {},
   "outputs": [],
   "source": [
    "def process_code(code, dr, srcpath=None, trgpath=None):\n",
    "    \"\"\"\n",
    "    processes notebook code\n",
    "    \n",
    "    :code:      the code to be processed\n",
    "    :dr:        the associated data record (datarecord_nt)\n",
    "    :srcpath:   source path (info only)\n",
    "    :trgpath:   target path (info only)\n",
    "    \"\"\"\n",
    "    lines = code.splitlines()\n",
    "    outlines = [\n",
    "                 \"# \"+\"-\"*60,\n",
    "                f\"# Auto generated test file `{dr.outfn}`\",\n",
    "                 \"# \"+\"-\"*60,\n",
    "                f\"# source file   = {dr.fn}\"\n",
    "    ]\n",
    "    if srcpath and srcpath != \".\":\n",
    "        outlines += [\n",
    "                f\"# source path   = {srcpath}\"\n",
    "        ]\n",
    "    if trgpath and trgpath != \".\":\n",
    "        outlines += [\n",
    "                f\"# target path   = {srcpath}\"\n",
    "        ]\n",
    "    outlines += [\n",
    "        \n",
    "                f\"# test id       = {dr.tid}\",\n",
    "                f\"# test comment  = {dr.comment}\",\n",
    "                 \"# \"+\"-\"*60,\n",
    "                \"\",\"\",\n",
    "    ]\n",
    "    is_precode = True\n",
    "    for l in lines:\n",
    "        if l[:4] == \"# # \":\n",
    "            print(f\"\"\"Processing \"{l[4:]}\" ({r.fn})\"\"\")\n",
    "            outlines += [\"\"]\n",
    "            \n",
    "        elif l[:5] == \"# ## \":\n",
    "            title = l[5:].strip()\n",
    "            fcn = funcn(title)\n",
    "            print(f\"  creating function `{fcn}()` from section {title}\")\n",
    "            outlines += [\n",
    "                 \"\",\n",
    "                 \"# \"+\"-\"*60,\n",
    "                f\"# Test      {r.tid}\",\n",
    "                f\"# File      {r.outfn}\",\n",
    "                f\"# Segment   {title}\",\n",
    "                 \"# \"+\"-\"*60,\n",
    "                f\"def {fcn}():\",\n",
    "                 \"# \"+\"-\"*60,\n",
    "            ]\n",
    "            is_precode = False\n",
    "            \n",
    "        elif l[:9] == \"# NBTEST:\":\n",
    "            l = l[9:]\n",
    "            try:\n",
    "                opt, val = l.split(\"=\")\n",
    "                opt=opt.strip().upper()\n",
    "                val=val.strip().upper()\n",
    "            except:\n",
    "                print(f\"  error setting option\", l)\n",
    "                raise ValueError(\"Error setting option\", l, dr.fn)\n",
    "            print(f\"  processiong option {opt}={val}\")\n",
    "            if opt == \"NOTEST_DEFAULT\":\n",
    "                global NOTEST_DEFAULT\n",
    "                if val in [\"TEST\", \"NOTEST\"]:\n",
    "                    NOTEST_DEFAULT = val\n",
    "                    #print(\"[process_code] NOTEST_DEFAULT\", NOTEST_DEFAULT)\n",
    "                else:\n",
    "                    raise ValueError(f\"Invalid choice for option NOTEST_DEFAULT: {val}\", l, dr.fn)\n",
    "            else:\n",
    "                raise ValueError(f\"Unknown option {opt}\", l, dr.fn)\n",
    "            \n",
    "            \n",
    "        else:\n",
    "            if is_precode:\n",
    "                if l[:2] != \"# \":\n",
    "                    outlines += [l]\n",
    "            else:\n",
    "                outlines += [\"    \"+l]\n",
    "    outcode = \"\\n\".join(outlines)\n",
    "    return outcode"
   ]
  },
  {
   "cell_type": "code",
   "execution_count": 46,
   "id": "82d9c3d5",
   "metadata": {},
   "outputs": [
    {
     "name": "stdout",
     "output_type": "stream",
     "text": [
      "Processing \"AMMGammaLib Test\" (AMMGammaLib_Test.py)\n",
      "  creating function `notest_gamma_gain_fee_payment()` from section gamma_gain fee_payment  [NOTEST]\n",
      "  creating function `test_ammsim()` from section AMMSim [TEST]\n",
      "  creating function `notest_ammsim_demo()` from section AMMSim Demo [NOTEST]\n",
      "  saving generated test to test_AMMGammaLib_.py\n",
      "Processing \"Option Pricing\" (BlackScholes_Test.py)\n",
      "  creating function `test_callputforward()` from section CallPutForward [TEST]\n",
      "  creating function `notest_charts()` from section Charts\n",
      "  saving generated test to test_BlackScholes_.py\n",
      "Processing \"RPathLib Test and Demo\" (RPathLib_Test.py)\n",
      "  creating function `test_rpathgen()` from section RPathGen [TEST]\n",
      "  creating function `test_rpath()` from section RPath [TEST]\n",
      "  creating function `notest_examples()` from section Examples\n",
      "  saving generated test to test_RPathLib_.py\n"
     ]
    }
   ],
   "source": [
    "for r in fnlst:\n",
    "    code = fload(r.fn, SRCPATH, quiet=True)\n",
    "    testcode = process_code(code, r, SRCPATH, TRGPATH)\n",
    "    fsave(testcode, r.outfn, TRGPATH, quiet=True)\n",
    "    print(f\"  saving generated test to {r.outfn}\")"
   ]
  },
  {
   "cell_type": "code",
   "execution_count": null,
   "id": "ca997e93",
   "metadata": {},
   "outputs": [],
   "source": []
  }
 ],
 "metadata": {
  "jupytext": {
   "formats": "ipynb,py:light"
  },
  "kernelspec": {
   "display_name": "Python 3",
   "language": "python",
   "name": "python3"
  },
  "language_info": {
   "codemirror_mode": {
    "name": "ipython",
    "version": 3
   },
   "file_extension": ".py",
   "mimetype": "text/x-python",
   "name": "python",
   "nbconvert_exporter": "python",
   "pygments_lexer": "ipython3",
   "version": "3.8.8"
  }
 },
 "nbformat": 4,
 "nbformat_minor": 5
}
